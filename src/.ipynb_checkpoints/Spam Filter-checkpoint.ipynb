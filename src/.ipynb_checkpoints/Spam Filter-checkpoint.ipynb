{
 "cells": [
  {
   "cell_type": "markdown",
   "metadata": {},
   "source": [
    "## Importing Libraries"
   ]
  },
  {
   "cell_type": "code",
   "execution_count": 33,
   "metadata": {},
   "outputs": [],
   "source": [
    "# Importing required libraries\n",
    "import numpy as np\n",
    "import pandas as pd\n",
    "from collections import Counter\n",
    "import matplotlib.pyplot as plt; plt.style.use('ggplot') \n",
    "import seaborn as sns;\n",
    "import warnings; warnings.filterwarnings('ignore')\n",
    "import scipy.io as io\n",
    "from scipy.sparse import csr_matrix\n",
    "from sklearn.model_selection import train_test_split\n",
    "from sklearn.metrics import accuracy_score, classification_report, precision_recall_curve,roc_curve, confusion_matrix\n",
    "from sklearn.metrics import precision_score, recall_score,f1_score, auc, average_precision_score\n",
    "from sklearn.linear_model import LogisticRegression\n",
    "from sklearn.ensemble import RandomForestClassifier\n",
    "import pickle"
   ]
  },
  {
   "cell_type": "markdown",
   "metadata": {},
   "source": [
    "###  1. Loading Data"
   ]
  },
  {
   "cell_type": "code",
   "execution_count": 34,
   "metadata": {},
   "outputs": [
    {
     "name": "stdout",
     "output_type": "stream",
     "text": [
      "# obervations: (57173, 10000)\n",
      "# class observations: (1, 10000)\n"
     ]
    }
   ],
   "source": [
    "# Loading the datatset\n",
    "data =  io.loadmat(\"../data/raw/emails.mat\")\n",
    "print('# obervations:',data['X'].shape)\n",
    "print('# class observations:',data['Y'].shape)"
   ]
  },
  {
   "cell_type": "markdown",
   "metadata": {},
   "source": [
    "### 2. Data Exploration"
   ]
  },
  {
   "cell_type": "markdown",
   "metadata": {},
   "source": [
    "#### exploring 'y'"
   ]
  },
  {
   "cell_type": "code",
   "execution_count": 35,
   "metadata": {},
   "outputs": [
    {
     "data": {
      "image/png": "[encoded data removed]",
      "text/plain": [
       "<Figure size 432x288 with 1 Axes>"
      ]
     },
     "metadata": {},
     "output_type": "display_data"
    }
   ],
   "source": [
    "# plot the frequencies of the classes\n",
    "YData = pd.DataFrame(data['Y'].T)\n",
    "\n",
    "# YData\n",
    "fig, ax = plt.subplots(figsize=(6,4))\n",
    "sns.countplot(x = YData[0], ax=ax)\n",
    "ax.set_xticklabels(['Not spam','Spam'])\n",
    "ax.set_xlabel('')\n",
    "fig.suptitle('Frequencies of the output classes')\n",
    "plt.show()"
   ]
  },
  {
   "cell_type": "markdown",
   "metadata": {},
   "source": [
    "#### exploring 'x'"
   ]
  },
  {
   "cell_type": "code",
   "execution_count": 5,
   "metadata": {},
   "outputs": [],
   "source": [
    "sparse_matrix = csr_matrix(data['X'])\n",
    "dense_matrix = sparse_matrix.todense()  #Converting the sparse matrix to a dense matrix\n",
    "# N.B.:This operation is computationally expensive, so we'll perform it just once to explore the data"
   ]
  },
  {
   "cell_type": "code",
   "execution_count": 6,
   "metadata": {},
   "outputs": [
    {
     "name": "stdout",
     "output_type": "stream",
     "text": [
      "****************************************************************************************************\n",
      "Sparcity of the matrix\n",
      "****************************************************************************************************\n",
      "0.9958870463330594\n"
     ]
    }
   ],
   "source": [
    "print('*'*100)\n",
    "print('Sparcity of the matrix')\n",
    "print('*'*100)\n",
    "sparcity = 1-(np.count_nonzero(dense_matrix) / float(dense_matrix.size))        #calculating sparcity of the matrix\n",
    "print(sparcity)\n",
    "df = pd.DataFrame(dense_matrix.T)"
   ]
  },
  {
   "cell_type": "code",
   "execution_count": 7,
   "metadata": {},
   "outputs": [],
   "source": [
    "# Converting to dataframe for easier operation\n",
    "df = pd.DataFrame(dense_matrix.T)"
   ]
  },
  {
   "cell_type": "code",
   "execution_count": 36,
   "metadata": {},
   "outputs": [
    {
     "name": "stdout",
     "output_type": "stream",
     "text": [
      "0.0    9867\n",
      "1.0     133\n",
      "Name: 322, dtype: int64\n",
      "0.0    9991\n",
      "1.0       8\n",
      "2.0       1\n",
      "Name: 2848, dtype: int64\n"
     ]
    }
   ],
   "source": [
    "# checking the ranges in the word count for each word\n",
    "print(df[322].value_counts())\n",
    "print(df[2848].value_counts())"
   ]
  },
  {
   "cell_type": "code",
   "execution_count": 37,
   "metadata": {},
   "outputs": [
    {
     "name": "stdout",
     "output_type": "stream",
     "text": [
      "Frequencies of different words: \n",
      " 0         39.0\n",
      "1          6.0\n",
      "2          8.0\n",
      "3         69.0\n",
      "4        210.0\n",
      "5         28.0\n",
      "6         20.0\n",
      "7          3.0\n",
      "8          2.0\n",
      "9          3.0\n",
      "10        29.0\n",
      "11        20.0\n",
      "12         9.0\n",
      "13        48.0\n",
      "14       480.0\n",
      "15        10.0\n",
      "16         3.0\n",
      "17         2.0\n",
      "18         3.0\n",
      "19         4.0\n",
      "20         4.0\n",
      "21        38.0\n",
      "22       200.0\n",
      "23        11.0\n",
      "24        38.0\n",
      "25         2.0\n",
      "26         3.0\n",
      "27         7.0\n",
      "28         3.0\n",
      "29         4.0\n",
      "         ...  \n",
      "57143     14.0\n",
      "57144      5.0\n",
      "57145      2.0\n",
      "57146      9.0\n",
      "57147    116.0\n",
      "57148      2.0\n",
      "57149      4.0\n",
      "57150    186.0\n",
      "57151      7.0\n",
      "57152     36.0\n",
      "57153     14.0\n",
      "57154    209.0\n",
      "57155     38.0\n",
      "57156     49.0\n",
      "57157     16.0\n",
      "57158     25.0\n",
      "57159      2.0\n",
      "57160      5.0\n",
      "57161      5.0\n",
      "57162      9.0\n",
      "57163      3.0\n",
      "57164     12.0\n",
      "57165      3.0\n",
      "57166      3.0\n",
      "57167      2.0\n",
      "57168     26.0\n",
      "57169      8.0\n",
      "57170     10.0\n",
      "57171      5.0\n",
      "57172      4.0\n",
      "Length: 57173, dtype: float64\n"
     ]
    }
   ],
   "source": [
    "# Calculating the word frequencies of different words in X\n",
    "\n",
    "words_frequency = np.sum(df, axis=0)\n",
    "print('Frequencies of different words: \\n',words_frequency)"
   ]
  },
  {
   "cell_type": "code",
   "execution_count": 39,
   "metadata": {},
   "outputs": [
    {
     "name": "stdout",
     "output_type": "stream",
     "text": [
      "Total emails: 10000\n",
      "Word counts of different emails: \n",
      " 0        142.0\n",
      "1        107.0\n",
      "2         51.0\n",
      "3        134.0\n",
      "4        967.0\n",
      "5        967.0\n",
      "6        324.0\n",
      "7         34.0\n",
      "8        164.0\n",
      "9        145.0\n",
      "10       308.0\n",
      "11       778.0\n",
      "12       737.0\n",
      "13       963.0\n",
      "14        79.0\n",
      "15       413.0\n",
      "16       122.0\n",
      "17       955.0\n",
      "18       973.0\n",
      "19       177.0\n",
      "20       139.0\n",
      "21        79.0\n",
      "22        79.0\n",
      "23        79.0\n",
      "24       281.0\n",
      "25        47.0\n",
      "26       762.0\n",
      "27       165.0\n",
      "28       264.0\n",
      "29        80.0\n",
      "         ...  \n",
      "9970     484.0\n",
      "9971      54.0\n",
      "9972     132.0\n",
      "9973     243.0\n",
      "9974     447.0\n",
      "9975      83.0\n",
      "9976     331.0\n",
      "9977     354.0\n",
      "9978     351.0\n",
      "9979     223.0\n",
      "9980     183.0\n",
      "9981     186.0\n",
      "9982     191.0\n",
      "9983     430.0\n",
      "9984     185.0\n",
      "9985     447.0\n",
      "9986    2586.0\n",
      "9987     310.0\n",
      "9988    5378.0\n",
      "9989     330.0\n",
      "9990     301.0\n",
      "9991     423.0\n",
      "9992     249.0\n",
      "9993     335.0\n",
      "9994     445.0\n",
      "9995     737.0\n",
      "9996     294.0\n",
      "9997    1152.0\n",
      "9998     423.0\n",
      "9999     343.0\n",
      "Length: 10000, dtype: float64\n"
     ]
    }
   ],
   "source": [
    "#Calculating the length of different emails\n",
    "\n",
    "len_emails = np.sum(df, axis=1)\n",
    "print('Total emails:',len(len_emails))\n",
    "print('Word counts of different emails: \\n',len_emails)"
   ]
  },
  {
   "cell_type": "code",
   "execution_count": 40,
   "metadata": {},
   "outputs": [
    {
     "name": "stdout",
     "output_type": "stream",
     "text": [
      "There are 8030 spam emails\n",
      "****************************************************************************************************\n",
      "Lengths of Spam emails\n",
      "\n",
      "Email No.  Length\n",
      "0        142.0\n",
      "2         51.0\n",
      "3        134.0\n",
      "4        967.0\n",
      "5        967.0\n",
      "6        324.0\n",
      "7         34.0\n",
      "8        164.0\n",
      "10       308.0\n",
      "11       778.0\n",
      "12       737.0\n",
      "13       963.0\n",
      "14        79.0\n",
      "15       413.0\n",
      "16       122.0\n",
      "17       955.0\n",
      "18       973.0\n",
      "21        79.0\n",
      "22        79.0\n",
      "23        79.0\n",
      "24       281.0\n",
      "25        47.0\n",
      "26       762.0\n",
      "27       165.0\n",
      "29        80.0\n",
      "31       413.0\n",
      "32       603.0\n",
      "34       160.0\n",
      "35      1350.0\n",
      "36       421.0\n",
      "         ...  \n",
      "9958     214.0\n",
      "9960     330.0\n",
      "9962     748.0\n",
      "9963     770.0\n",
      "9964     640.0\n",
      "9966     564.0\n",
      "9967     421.0\n",
      "9968     323.0\n",
      "9969     421.0\n",
      "9971      54.0\n",
      "9973     243.0\n",
      "9974     447.0\n",
      "9975      83.0\n",
      "9976     331.0\n",
      "9977     354.0\n",
      "9978     351.0\n",
      "9979     223.0\n",
      "9983     430.0\n",
      "9985     447.0\n",
      "9987     310.0\n",
      "9989     330.0\n",
      "9990     301.0\n",
      "9991     423.0\n",
      "9992     249.0\n",
      "9993     335.0\n",
      "9994     445.0\n",
      "9995     737.0\n",
      "9997    1152.0\n",
      "9998     423.0\n",
      "9999     343.0\n",
      "Length: 8030, dtype: float64\n",
      "****************************************************************************************************\n",
      "There are 1970 non spam emails\n",
      "****************************************************************************************************\n",
      "Lengths of Non-spam emails\n",
      "\n",
      "Email No.  Length\n",
      "1        107.0\n",
      "9        145.0\n",
      "19       177.0\n",
      "20       139.0\n",
      "28       264.0\n",
      "30      4735.0\n",
      "33       572.0\n",
      "48      1481.0\n",
      "49      1481.0\n",
      "56        68.0\n",
      "58        69.0\n",
      "61        93.0\n",
      "65        71.0\n",
      "66        66.0\n",
      "70        82.0\n",
      "71       188.0\n",
      "72        65.0\n",
      "74       286.0\n",
      "76       119.0\n",
      "80       214.0\n",
      "83       262.0\n",
      "85      2268.0\n",
      "88        41.0\n",
      "110     7330.0\n",
      "116      998.0\n",
      "123      191.0\n",
      "126      100.0\n",
      "129      138.0\n",
      "151      561.0\n",
      "163      134.0\n",
      "         ...  \n",
      "9896     165.0\n",
      "9911     233.0\n",
      "9912      97.0\n",
      "9914    2446.0\n",
      "9916     144.0\n",
      "9918     140.0\n",
      "9919     250.0\n",
      "9927     256.0\n",
      "9928     227.0\n",
      "9929     230.0\n",
      "9930     161.0\n",
      "9931     117.0\n",
      "9932     235.0\n",
      "9947     163.0\n",
      "9949     352.0\n",
      "9952     166.0\n",
      "9953     169.0\n",
      "9954     174.0\n",
      "9959     130.0\n",
      "9961     120.0\n",
      "9965     369.0\n",
      "9970     484.0\n",
      "9972     132.0\n",
      "9980     183.0\n",
      "9981     186.0\n",
      "9982     191.0\n",
      "9984     185.0\n",
      "9986    2586.0\n",
      "9988    5378.0\n",
      "9996     294.0\n",
      "Length: 1970, dtype: float64\n"
     ]
    }
   ],
   "source": [
    "#Separating the lengths of emails based on Spam/Not-Spam\n",
    "\n",
    "y_values = np.array(data['Y'][0])\n",
    "len_spam = length_emails[y_values==1]\n",
    "print('There are ' + str(len(length_spam)) + ' spam emails')\n",
    "print('*'*100)\n",
    "print('Lengths of Spam emails\\n')\n",
    "print('Email No.  Length')\n",
    "print(str(length_spam))\n",
    "print('*'*100)\n",
    "len_not_spam = length_emails[y_values==-1]\n",
    "print('There are ' + str(len(length_not_spam)) + ' non spam emails')\n",
    "print('*'*100)\n",
    "print('Lengths of Non-spam emails\\n')\n",
    "print('Email No.  Length')\n",
    "print(str(length_not_spam))"
   ]
  },
  {
   "cell_type": "code",
   "execution_count": 41,
   "metadata": {},
   "outputs": [
    {
     "data": {
      "image/png": "[encoded data removed]",
      "text/plain": [
       "<Figure size 864x288 with 1 Axes>"
      ]
     },
     "metadata": {},
     "output_type": "display_data"
    }
   ],
   "source": [
    "# Plotting for understanding the word count distribution of spam/Ham emails\n",
    "\n",
    "plt.figure(figsize=(12,4))\n",
    "plt.hist([length_spam, length_not_spam], bins=50, color=['red', 'green'], label=['spam', 'not spam'],density=True)\n",
    "plt.title('Length of emails')\n",
    "plt.legend()\n",
    "plt.savefig('../reports/Length_distribution_based_on_category.png', bbox_inches='tight')"
   ]
  },
  {
   "cell_type": "markdown",
   "metadata": {},
   "source": [
    "### 3. Data preparation"
   ]
  },
  {
   "cell_type": "code",
   "execution_count": 42,
   "metadata": {},
   "outputs": [
    {
     "name": "stdout",
     "output_type": "stream",
     "text": [
      "(10000, 57173)\n",
      "(1, 10000)\n"
     ]
    }
   ],
   "source": [
    "# Preparing data for further operations\n",
    "X = data['X'].T\n",
    "y = data['Y']\n",
    "print(X.shape)\n",
    "print(y.shape)\n",
    "# print(X.shape)\n"
   ]
  },
  {
   "cell_type": "code",
   "execution_count": 43,
   "metadata": {},
   "outputs": [],
   "source": [
    "def upsampling(X,y):\n",
    "    \"\"\" Balance the class instances using upsampling the minority class\n",
    "        \n",
    "        Parameters\n",
    "        ------------\n",
    "        X: array\n",
    "            Features \n",
    "        y: array\n",
    "            Labels\n",
    "        \n",
    "        Returns\n",
    "        --------------\n",
    "        tuple\n",
    "            Returns new features and labels\n",
    "    \"\"\"\n",
    "    from sklearn.utils import resample\n",
    "    from scipy.sparse import vstack\n",
    "\n",
    "    minorityClassX= X[y[0] == -1,:]                   #Separating the samples with class '-1' from X\n",
    "    majorityClassX= X[y[0] == 1,:]                    #Separating the samples with class '1' from X\n",
    "    \n",
    "    print(minorityClassX.shape)\n",
    "    print(majorityClassX.shape)\n",
    "\n",
    "    resampledMinorityClassX= resample(minorityClassX,replace=True,n_samples=8030)\n",
    "    newSparseMatrix = vstack([majorityClassX,resampledMinorityClassX])\n",
    "\n",
    "    minorityClassY= y.T[y[0] == -1]                                 #Separating the samples with class '-1' from Y\n",
    "    majorityClassY= y.T[y[0] == 1]                                  #Separating the samples with class '1' from Y\n",
    "\n",
    "    newMinorityClassValueY = np.full((len(majorityClassY), 1), -1)\n",
    "    newYValue = np.vstack((majorityClassY,newMinorityClassValueY))  #Creating new Y value with balanced '1' and '-1'\n",
    "\n",
    "    return newSparseMatrix, newYValue"
   ]
  },
  {
   "cell_type": "code",
   "execution_count": 44,
   "metadata": {},
   "outputs": [
    {
     "name": "stdout",
     "output_type": "stream",
     "text": [
      "(1970, 57173)\n",
      "(8030, 57173)\n",
      "# observations: (16060, 57173)\n",
      "# labels: (16060, 1)\n",
      "# Not spam: 8030\n",
      "# Spam: 8030\n"
     ]
    }
   ],
   "source": [
    "X_upsample,y_upsample=upsampling(X,y)\n",
    "print('# observations:',X_upsample.shape)\n",
    "print(\"# labels:\",y_upsample.shape)\n",
    "print(\"# Not spam:\",len(np.where(y_upsample==-1)[0]))\n",
    "print('# Spam:',len(np.where(y_upsample==1)[0]))"
   ]
  },
  {
   "cell_type": "code",
   "execution_count": 11,
   "metadata": {},
   "outputs": [
    {
     "name": "stdout",
     "output_type": "stream",
     "text": [
      "# observations: (16060, 57173)\n"
     ]
    }
   ],
   "source": [
    "# normalize the data\n",
    "from sklearn.feature_extraction.text import TfidfTransformer\n",
    "transformer = TfidfTransformer()\n",
    "X_upsample_tfidf= transformer.fit_transform(X_upsample)\n",
    "print('# observations:',X_upsample_tfidf.shape)"
   ]
  },
  {
   "cell_type": "code",
   "execution_count": 12,
   "metadata": {
    "scrolled": true
   },
   "outputs": [],
   "source": [
    "# # Splitting the dataset into 70% train and 30% test data\n",
    "# X_train,X_test,y_train,y_test = train_test_split(X_upsample_tfidf,y_upsample,test_size =0.3, random_state=42)\n",
    "# print('# Observations X_train:{}\\n# Observations X_test:{}\\n# Observations y_train:{}\\n# Observations y_test:{}'\\\n",
    "#       .format(X_train.shape,X_test.shape,y_train.shape,y_test.shape))"
   ]
  },
  {
   "cell_type": "markdown",
   "metadata": {},
   "source": [
    "### 4. Training"
   ]
  },
  {
   "cell_type": "code",
   "execution_count": 13,
   "metadata": {},
   "outputs": [],
   "source": [
    "def adjusted_classes(y_scores, t):\n",
    "    \"\"\"\n",
    "    Predicts the classes based on the specifed threshold\n",
    "    \n",
    "    Parameters\n",
    "    -----------\n",
    "    y_scores: list\n",
    "        Probabilites of the positive classes\n",
    "    t: float\n",
    "        Threshold \n",
    "    \n",
    "    Returns\n",
    "    -----------\n",
    "    list\n",
    "        Returns list of the predicted outcome\n",
    "    \"\"\"\n",
    "    return [1 if y >= t else -1 for y in y_scores] "
   ]
  },
  {
   "cell_type": "code",
   "execution_count": 14,
   "metadata": {},
   "outputs": [],
   "source": [
    "def cross_validation(splits, X, Y, model, average_method='binary',t=0.5):\n",
    "    ''' Performs k -fold cross validation and print the classification report for each fold\n",
    "        Parameter\n",
    "        ---------\n",
    "        splits: int\n",
    "            Number of splits to be done\n",
    "        X: array\n",
    "            Feature set\n",
    "        Y: array\n",
    "            Labels\n",
    "        model: Estimator\n",
    "            Model to be trained on\n",
    "        average_method: str\n",
    "            method for the classification metrics (optional)\n",
    "        t: float\n",
    "            Defines the threshold\n",
    "    '''\n",
    "    from sklearn.model_selection import KFold\n",
    "    kfold = KFold(n_splits=splits, shuffle=True, random_state=10)\n",
    "    accuracy = []\n",
    "    precision = []\n",
    "    recall = []\n",
    "    f1 = []\n",
    "    y_real = []\n",
    "    y_proba = []\n",
    "\n",
    "    fold=0\n",
    "    #KFold Cross Validation so that the model performs good in future samples\n",
    "    for train, test in kfold.split(X, Y):           \n",
    "        fold=fold+1\n",
    "        predictor = model.fit(X[train], Y[train])\n",
    "        scores = predictor.score(X[test],Y[test])\n",
    "        pred_proba =  predictor.predict_proba(X[test])\n",
    "        # prediction of the classes based on threshold\n",
    "        prediction = adjusted_classes(pred_proba[:,1], t)\n",
    "        \n",
    "        print('          Ham       Spam')\n",
    "\n",
    "        accuracy.append(scores * 100)\n",
    "        precision.append(precision_score(Y[test], prediction, average=average_method)*100)\n",
    "        print('precision:',precision_score(Y[test], prediction, average=None))\n",
    "        recall.append(recall_score(Y[test], prediction, average=average_method)*100)\n",
    "        print('recall:   ',recall_score(Y[test], prediction, average=None))\n",
    "        f1.append(f1_score(Y[test], prediction, average=average_method)*100)\n",
    "        print('-'*50)\n",
    "        \n",
    "        # precision- recall curve for each folds\n",
    "        precision_fold, recall_fold, thresh = precision_recall_curve(Y[test], pred_proba[:,1])\n",
    "\n",
    "        pr_auc= auc(recall_fold,precision_fold)\n",
    "        label_fold = 'Fold %d AUC=%.4f' % (fold, pr_auc)\n",
    "        plt.plot(recall_fold, precision_fold, alpha=0.3, label=label_fold, color=np.random.rand(3,))\n",
    "\n",
    "        y_real.append(Y[test])\n",
    "        y_proba.append(pred_proba[:,1])\n",
    "        \n",
    "    # Report #\n",
    "    # Prints the overall accuracy, precision and recall\n",
    "    print(\"accuracy: %.2f%% (+/- %.2f%%)\" % (np.mean(accuracy), np.std(accuracy)))\n",
    "    print(\"precision: %.2f%% (+/- %.2f%%)\" % (np.mean(precision), np.std(precision)))\n",
    "    print(\"recall: %.2f%% (+/- %.2f%%)\" % (np.mean(recall), np.std(recall)))\n",
    "    print(\"f1 score: %.2f%% (+/- %.2f%%)\" % (np.mean(f1), np.std(f1)))\n",
    "    \n",
    "    # plots the overall Precision-recall curve\n",
    "    y_real = np.concatenate(y_real)\n",
    "    y_proba = np.concatenate(y_proba)\n",
    "    precision, recall, threshold = precision_recall_curve(y_real, y_proba)\n",
    "    final_label = 'Overall AUC=%.4f' % (auc(recall, precision))\n",
    "    plt.plot(recall, precision, lw=2,color='red', label=final_label)\n",
    "    plt.plot([0, 1], [0.5, 0.5], linestyle='--')\n",
    "    plt.legend(loc='lower left', fontsize='small')\n",
    "    \n",
    "    # plot the current threshold on the line\n",
    "    close_default_clf = np.argmin(np.abs(threshold - t))\n",
    "    plt.plot(recall[close_default_clf], precision[close_default_clf], '^', c='k',\n",
    "            markersize=15)\n",
    "    \n",
    "    plt.xlabel('Recall')\n",
    "    plt.ylabel('Precision')\n",
    "    plt.title('Precision-recall curve')\n",
    "    plt.show()"
   ]
  },
  {
   "cell_type": "code",
   "execution_count": 15,
   "metadata": {},
   "outputs": [
    {
     "name": "stdout",
     "output_type": "stream",
     "text": [
      "          Ham       Spam\n",
      "precision: [1.         0.98263027]\n",
      "recall:    [0.98280098 1.        ]\n",
      "--------------------------------------------------\n",
      "          Ham       Spam\n",
      "precision: [1.         0.98205742]\n",
      "recall:    [0.98089172 1.        ]\n",
      "--------------------------------------------------\n",
      "          Ham       Spam\n",
      "precision: [1.         0.98687351]\n",
      "recall:    [0.98587933 1.        ]\n",
      "--------------------------------------------------\n",
      "          Ham       Spam\n",
      "precision: [1.         0.98802395]\n",
      "recall:    [0.9871959 1.       ]\n",
      "--------------------------------------------------\n",
      "          Ham       Spam\n",
      "precision: [1.    0.985]\n",
      "recall:    [0.98533007 1.        ]\n",
      "--------------------------------------------------\n",
      "          Ham       Spam\n",
      "precision: [0.99877751 0.98984772]\n",
      "recall:    [0.99030303 0.99871959]\n",
      "--------------------------------------------------\n",
      "          Ham       Spam\n",
      "precision: [0.99874844 0.9913259 ]\n",
      "recall:    [0.99130435 0.99875156]\n",
      "--------------------------------------------------\n",
      "          Ham       Spam\n",
      "precision: [1.         0.98412698]\n",
      "recall:    [0.98375 1.     ]\n",
      "--------------------------------------------------\n",
      "          Ham       Spam\n",
      "precision: [1.        0.9789864]\n",
      "recall:    [0.97911548 1.        ]\n",
      "--------------------------------------------------\n",
      "          Ham       Spam\n",
      "precision: [0.99625    0.98511166]\n",
      "recall:    [0.98516687 0.99623588]\n",
      "--------------------------------------------------\n",
      "accuracy: 99.83% (+/- 0.10%)\n",
      "precision: 98.54% (+/- 0.35%)\n",
      "recall: 99.94% (+/- 0.12%)\n",
      "f1 score: 99.23% (+/- 0.17%)\n"
     ]
    },
    {
     "data": {
      "image/png": "[encoded data removed]",
      "text/plain": [
       "<Figure size 432x288 with 1 Axes>"
      ]
     },
     "metadata": {
      "needs_background": "light"
     },
     "output_type": "display_data"
    }
   ],
   "source": [
    "# logistic regression\n",
    "lr = LogisticRegression(random_state=42)\n",
    "cross_validation(10,X_upsample_tfidf,y_upsample,lr,t=0.2) "
   ]
  },
  {
   "cell_type": "code",
   "execution_count": 16,
   "metadata": {},
   "outputs": [
    {
     "name": "stdout",
     "output_type": "stream",
     "text": [
      "          Ham       Spam\n",
      "precision: [1.         0.99497487]\n",
      "recall:    [0.995086 1.      ]\n",
      "--------------------------------------------------\n",
      "          Ham       Spam\n",
      "precision: [1.         0.99154589]\n",
      "recall:    [0.9910828 1.       ]\n",
      "--------------------------------------------------\n",
      "          Ham       Spam\n",
      "precision: [1.         0.99758745]\n",
      "recall:    [0.99743261 1.        ]\n",
      "--------------------------------------------------\n",
      "          Ham       Spam\n",
      "precision: [1.        0.9939759]\n",
      "recall:    [0.99359795 1.        ]\n",
      "--------------------------------------------------\n",
      "          Ham       Spam\n",
      "precision: [1.         0.99369483]\n",
      "recall:    [0.99388753 1.        ]\n",
      "--------------------------------------------------\n",
      "          Ham       Spam\n",
      "precision: [1.         0.99490446]\n",
      "recall:    [0.99515152 1.        ]\n",
      "--------------------------------------------------\n",
      "          Ham       Spam\n",
      "precision: [0.99874844 0.9913259 ]\n",
      "recall:    [0.99130435 0.99875156]\n",
      "--------------------------------------------------\n",
      "          Ham       Spam\n",
      "precision: [1.         0.99506173]\n",
      "recall:    [0.995 1.   ]\n",
      "--------------------------------------------------\n",
      "          Ham       Spam\n",
      "precision: [1.         0.99497487]\n",
      "recall:    [0.995086 1.      ]\n",
      "--------------------------------------------------\n",
      "          Ham       Spam\n",
      "precision: [0.99876543 1.        ]\n",
      "recall:    [1.         0.99874529]\n",
      "--------------------------------------------------\n",
      "accuracy: 99.70% (+/- 0.17%)\n",
      "precision: 99.48% (+/- 0.24%)\n",
      "recall: 99.97% (+/- 0.05%)\n",
      "f1 score: 99.73% (+/- 0.12%)\n"
     ]
    },
    {
     "data": {
      "image/png": "[encoded data removed]",
      "text/plain": [
       "<Figure size 432x288 with 1 Axes>"
      ]
     },
     "metadata": {
      "needs_background": "light"
     },
     "output_type": "display_data"
    }
   ],
   "source": [
    "# random forest\n",
    "rf = RandomForestClassifier(random_state=42)\n",
    "cross_validation(10,X_upsample_tfidf,y_upsample,rf,t=0.2)"
   ]
  },
  {
   "cell_type": "markdown",
   "metadata": {},
   "source": [
    "### 5. Save the models"
   ]
  },
  {
   "cell_type": "code",
   "execution_count": 17,
   "metadata": {},
   "outputs": [],
   "source": [
    "# save the best model for prediction to disk\n",
    "filename = '../models/finalized_model_rf.sav'\n",
    "pickle.dump(rf, open(filename, 'wb'))\n",
    "\n",
    "# save the best model for prediction to disk\n",
    "filename = '../models/finalized_model_lr.sav'\n",
    "pickle.dump(lr, open(filename, 'wb'))"
   ]
  },
  {
   "cell_type": "markdown",
   "metadata": {},
   "source": [
    "# Comment:\n",
    "\n",
    "Both the models achieved high recall i.e. more than 99.8%. However, Random forest works better for the same threshold and also gave high AUC."
   ]
  }
 ],
 "metadata": {
  "kernelspec": {
   "display_name": "Python 3",
   "language": "python",
   "name": "python3"
  },
  "language_info": {
   "codemirror_mode": {
    "name": "ipython",
    "version": 3
   },
   "file_extension": ".py",
   "mimetype": "text/x-python",
   "name": "python",
   "nbconvert_exporter": "python",
   "pygments_lexer": "ipython3",
   "version": "3.7.1"
  }
 },
 "nbformat": 4,
 "nbformat_minor": 2
}
