{
 "cells": [
  {
   "cell_type": "markdown",
   "metadata": {},
   "source": [
    "# Importing Libraries"
   ]
  },
  {
   "cell_type": "code",
   "execution_count": 1,
   "metadata": {},
   "outputs": [],
   "source": [
    "# Importing required libraries\n",
    "import numpy as np\n",
    "import pandas as pd\n",
    "from collections import Counter\n",
    "import matplotlib.pyplot as plt; plt.style.use('ggplot') \n",
    "import seaborn as sns;\n",
    "import warnings; warnings.filterwarnings('ignore')\n",
    "import scipy.io as io\n",
    "from scipy.sparse import csr_matrix\n",
    "from sklearn.model_selection import train_test_split\n",
    "from sklearn.metrics import accuracy_score, classification_report\n",
    "from sklearn.metrics import precision_recall_curve,roc_curve, confusion_matrix\n",
    "from sklearn.metrics import precision_score, recall_score,f1_score\n",
    "from sklearn.metrics import auc, average_precision_score\n",
    "from sklearn.linear_model import LogisticRegression\n",
    "from sklearn.ensemble import RandomForestClassifier\n",
    "import pickle"
   ]
  },
  {
   "cell_type": "markdown",
   "metadata": {},
   "source": [
    "# Loading Data"
   ]
  },
  {
   "cell_type": "code",
   "execution_count": 2,
   "metadata": {},
   "outputs": [
    {
     "name": "stdout",
     "output_type": "stream",
     "text": [
      "# obervations: (57173, 10000)\n",
      "# class observations: (1, 10000)\n"
     ]
    }
   ],
   "source": [
    "# Loading the datatset\n",
    "data =  io.loadmat(\"../data/raw/emails.mat\")\n",
    "print('# obervations:',data['X'].shape)\n",
    "print('# class observations:',data['Y'].shape)"
   ]
  },
  {
   "cell_type": "markdown",
   "metadata": {},
   "source": [
    "# Data Exploration"
   ]
  },
  {
   "cell_type": "markdown",
   "metadata": {},
   "source": [
    "## exploring labels"
   ]
  },
  {
   "cell_type": "code",
   "execution_count": 3,
   "metadata": {},
   "outputs": [
    {
     "data": {
      "image/png": "[encoded data removed]",
      "text/plain": [
       "<Figure size 576x432 with 1 Axes>"
      ]
     },
     "metadata": {},
     "output_type": "display_data"
    },
    {
     "data": {
      "text/plain": [
       "<Figure size 432x288 with 0 Axes>"
      ]
     },
     "metadata": {},
     "output_type": "display_data"
    }
   ],
   "source": [
    "# plot the frequencies of the classes\n",
    "YData = pd.DataFrame(data['Y'].T)\n",
    "fig, ax = plt.subplots(figsize=(8,6))\n",
    "sns.countplot(x = YData[0], ax=ax)\n",
    "ax.set_xticklabels(['Not spam','Spam'])\n",
    "ax.set_xlabel('Target')\n",
    "fig.suptitle('Frequencies of the output classes')\n",
    "plt.show()\n",
    "plt.savefig('../reports/frequencies_class_distribution.png', bbox_inches='tight')"
   ]
  },
  {
   "cell_type": "markdown",
   "metadata": {},
   "source": [
    "## exploring features"
   ]
  },
  {
   "cell_type": "code",
   "execution_count": 20,
   "metadata": {},
   "outputs": [
    {
     "name": "stdout",
     "output_type": "stream",
     "text": [
      "**************************************************\n",
      "Sparcity of the matrix\n",
      "**************************************************\n",
      "0.9958870463330594\n"
     ]
    }
   ],
   "source": [
    "sparse_matrix = csr_matrix(data['X'])\n",
    "#Converting the sparse matrix to a dense matrix\n",
    "dense_matrix = sparse_matrix.todense()  \n",
    "# N.B.:This operation is computationally expensive, \n",
    "#so we'll perform it just once to explore the data\n",
    "print('*'*50)\n",
    "print('Sparcity of the matrix')\n",
    "print('*'*50)\n",
    "#calculating sparcity of the matrix\n",
    "sparcity = 1-(np.count_nonzero(dense_matrix) / float(dense_matrix.size))        \n",
    "print(sparcity)\n",
    "df = pd.DataFrame(dense_matrix.T)"
   ]
  },
  {
   "cell_type": "code",
   "execution_count": 5,
   "metadata": {},
   "outputs": [
    {
     "data": {
      "text/html": [
       "<div>\n",
       "<style scoped>\n",
       "    .dataframe tbody tr th:only-of-type {\n",
       "        vertical-align: middle;\n",
       "    }\n",
       "\n",
       "    .dataframe tbody tr th {\n",
       "        vertical-align: top;\n",
       "    }\n",
       "\n",
       "    .dataframe thead th {\n",
       "        text-align: right;\n",
       "    }\n",
       "</style>\n",
       "<table border=\"1\" class=\"dataframe\">\n",
       "  <thead>\n",
       "    <tr style=\"text-align: right;\">\n",
       "      <th></th>\n",
       "      <th>0</th>\n",
       "      <th>1</th>\n",
       "      <th>2</th>\n",
       "      <th>3</th>\n",
       "      <th>4</th>\n",
       "      <th>5</th>\n",
       "      <th>6</th>\n",
       "      <th>7</th>\n",
       "      <th>8</th>\n",
       "      <th>9</th>\n",
       "      <th>...</th>\n",
       "      <th>57163</th>\n",
       "      <th>57164</th>\n",
       "      <th>57165</th>\n",
       "      <th>57166</th>\n",
       "      <th>57167</th>\n",
       "      <th>57168</th>\n",
       "      <th>57169</th>\n",
       "      <th>57170</th>\n",
       "      <th>57171</th>\n",
       "      <th>57172</th>\n",
       "    </tr>\n",
       "  </thead>\n",
       "  <tbody>\n",
       "    <tr>\n",
       "      <th>0</th>\n",
       "      <td>0.0</td>\n",
       "      <td>0.0</td>\n",
       "      <td>0.0</td>\n",
       "      <td>0.0</td>\n",
       "      <td>0.0</td>\n",
       "      <td>0.0</td>\n",
       "      <td>0.0</td>\n",
       "      <td>0.0</td>\n",
       "      <td>0.0</td>\n",
       "      <td>0.0</td>\n",
       "      <td>...</td>\n",
       "      <td>0.0</td>\n",
       "      <td>0.0</td>\n",
       "      <td>0.0</td>\n",
       "      <td>0.0</td>\n",
       "      <td>0.0</td>\n",
       "      <td>0.0</td>\n",
       "      <td>0.0</td>\n",
       "      <td>0.0</td>\n",
       "      <td>0.0</td>\n",
       "      <td>0.0</td>\n",
       "    </tr>\n",
       "    <tr>\n",
       "      <th>1</th>\n",
       "      <td>0.0</td>\n",
       "      <td>0.0</td>\n",
       "      <td>0.0</td>\n",
       "      <td>0.0</td>\n",
       "      <td>0.0</td>\n",
       "      <td>0.0</td>\n",
       "      <td>0.0</td>\n",
       "      <td>0.0</td>\n",
       "      <td>0.0</td>\n",
       "      <td>0.0</td>\n",
       "      <td>...</td>\n",
       "      <td>0.0</td>\n",
       "      <td>0.0</td>\n",
       "      <td>0.0</td>\n",
       "      <td>0.0</td>\n",
       "      <td>0.0</td>\n",
       "      <td>0.0</td>\n",
       "      <td>0.0</td>\n",
       "      <td>0.0</td>\n",
       "      <td>0.0</td>\n",
       "      <td>0.0</td>\n",
       "    </tr>\n",
       "    <tr>\n",
       "      <th>2</th>\n",
       "      <td>0.0</td>\n",
       "      <td>0.0</td>\n",
       "      <td>0.0</td>\n",
       "      <td>0.0</td>\n",
       "      <td>0.0</td>\n",
       "      <td>0.0</td>\n",
       "      <td>0.0</td>\n",
       "      <td>0.0</td>\n",
       "      <td>0.0</td>\n",
       "      <td>0.0</td>\n",
       "      <td>...</td>\n",
       "      <td>0.0</td>\n",
       "      <td>0.0</td>\n",
       "      <td>0.0</td>\n",
       "      <td>0.0</td>\n",
       "      <td>0.0</td>\n",
       "      <td>0.0</td>\n",
       "      <td>0.0</td>\n",
       "      <td>0.0</td>\n",
       "      <td>0.0</td>\n",
       "      <td>0.0</td>\n",
       "    </tr>\n",
       "    <tr>\n",
       "      <th>3</th>\n",
       "      <td>0.0</td>\n",
       "      <td>0.0</td>\n",
       "      <td>0.0</td>\n",
       "      <td>0.0</td>\n",
       "      <td>0.0</td>\n",
       "      <td>0.0</td>\n",
       "      <td>0.0</td>\n",
       "      <td>0.0</td>\n",
       "      <td>0.0</td>\n",
       "      <td>0.0</td>\n",
       "      <td>...</td>\n",
       "      <td>0.0</td>\n",
       "      <td>0.0</td>\n",
       "      <td>0.0</td>\n",
       "      <td>0.0</td>\n",
       "      <td>0.0</td>\n",
       "      <td>0.0</td>\n",
       "      <td>0.0</td>\n",
       "      <td>0.0</td>\n",
       "      <td>0.0</td>\n",
       "      <td>0.0</td>\n",
       "    </tr>\n",
       "    <tr>\n",
       "      <th>4</th>\n",
       "      <td>0.0</td>\n",
       "      <td>0.0</td>\n",
       "      <td>0.0</td>\n",
       "      <td>0.0</td>\n",
       "      <td>0.0</td>\n",
       "      <td>0.0</td>\n",
       "      <td>0.0</td>\n",
       "      <td>0.0</td>\n",
       "      <td>0.0</td>\n",
       "      <td>0.0</td>\n",
       "      <td>...</td>\n",
       "      <td>0.0</td>\n",
       "      <td>0.0</td>\n",
       "      <td>0.0</td>\n",
       "      <td>0.0</td>\n",
       "      <td>0.0</td>\n",
       "      <td>0.0</td>\n",
       "      <td>0.0</td>\n",
       "      <td>0.0</td>\n",
       "      <td>0.0</td>\n",
       "      <td>0.0</td>\n",
       "    </tr>\n",
       "  </tbody>\n",
       "</table>\n",
       "<p>5 rows × 57173 columns</p>\n",
       "</div>"
      ],
      "text/plain": [
       "   0      1      2      3      4      5      6      7      8      9      \\\n",
       "0    0.0    0.0    0.0    0.0    0.0    0.0    0.0    0.0    0.0    0.0   \n",
       "1    0.0    0.0    0.0    0.0    0.0    0.0    0.0    0.0    0.0    0.0   \n",
       "2    0.0    0.0    0.0    0.0    0.0    0.0    0.0    0.0    0.0    0.0   \n",
       "3    0.0    0.0    0.0    0.0    0.0    0.0    0.0    0.0    0.0    0.0   \n",
       "4    0.0    0.0    0.0    0.0    0.0    0.0    0.0    0.0    0.0    0.0   \n",
       "\n",
       "   ...    57163  57164  57165  57166  57167  57168  57169  57170  57171  57172  \n",
       "0  ...      0.0    0.0    0.0    0.0    0.0    0.0    0.0    0.0    0.0    0.0  \n",
       "1  ...      0.0    0.0    0.0    0.0    0.0    0.0    0.0    0.0    0.0    0.0  \n",
       "2  ...      0.0    0.0    0.0    0.0    0.0    0.0    0.0    0.0    0.0    0.0  \n",
       "3  ...      0.0    0.0    0.0    0.0    0.0    0.0    0.0    0.0    0.0    0.0  \n",
       "4  ...      0.0    0.0    0.0    0.0    0.0    0.0    0.0    0.0    0.0    0.0  \n",
       "\n",
       "[5 rows x 57173 columns]"
      ]
     },
     "execution_count": 5,
     "metadata": {},
     "output_type": "execute_result"
    }
   ],
   "source": [
    "# Converting to dataframe for easier operation\n",
    "# displaying first few rows\n",
    "df = pd.DataFrame(dense_matrix.T)\n",
    "df.head()"
   ]
  },
  {
   "cell_type": "code",
   "execution_count": 6,
   "metadata": {},
   "outputs": [
    {
     "name": "stdout",
     "output_type": "stream",
     "text": [
      "0.0    9867\n",
      "1.0     133\n",
      "Name: 322, dtype: int64\n",
      "0.0    9991\n",
      "1.0       8\n",
      "2.0       1\n",
      "Name: 2848, dtype: int64\n"
     ]
    }
   ],
   "source": [
    "# checking the ranges in the word count for each word\n",
    "print(df[322].value_counts())\n",
    "print(df[2848].value_counts())"
   ]
  },
  {
   "cell_type": "code",
   "execution_count": 7,
   "metadata": {},
   "outputs": [
    {
     "data": {
      "text/html": [
       "<div>\n",
       "<style scoped>\n",
       "    .dataframe tbody tr th:only-of-type {\n",
       "        vertical-align: middle;\n",
       "    }\n",
       "\n",
       "    .dataframe tbody tr th {\n",
       "        vertical-align: top;\n",
       "    }\n",
       "\n",
       "    .dataframe thead th {\n",
       "        text-align: right;\n",
       "    }\n",
       "</style>\n",
       "<table border=\"1\" class=\"dataframe\">\n",
       "  <thead>\n",
       "    <tr style=\"text-align: right;\">\n",
       "      <th></th>\n",
       "      <th>Word Count</th>\n",
       "    </tr>\n",
       "    <tr>\n",
       "      <th>Word Id</th>\n",
       "      <th></th>\n",
       "    </tr>\n",
       "  </thead>\n",
       "  <tbody>\n",
       "    <tr>\n",
       "      <th>46208</th>\n",
       "      <td>75793.0</td>\n",
       "    </tr>\n",
       "    <tr>\n",
       "      <th>46434</th>\n",
       "      <td>63806.0</td>\n",
       "    </tr>\n",
       "    <tr>\n",
       "      <th>54075</th>\n",
       "      <td>55856.0</td>\n",
       "    </tr>\n",
       "    <tr>\n",
       "      <th>4148</th>\n",
       "      <td>52935.0</td>\n",
       "    </tr>\n",
       "    <tr>\n",
       "      <th>12835</th>\n",
       "      <td>52705.0</td>\n",
       "    </tr>\n",
       "  </tbody>\n",
       "</table>\n",
       "</div>"
      ],
      "text/plain": [
       "         Word Count\n",
       "Word Id            \n",
       "46208       75793.0\n",
       "46434       63806.0\n",
       "54075       55856.0\n",
       "4148        52935.0\n",
       "12835       52705.0"
      ]
     },
     "execution_count": 7,
     "metadata": {},
     "output_type": "execute_result"
    }
   ],
   "source": [
    "# Calculating the word frequencies of different words in feature set\n",
    "words_frequency = np.sum(df, axis=0)\n",
    "word_freq_df= pd.DataFrame(data=words_frequency, columns=['Word Count'])\n",
    "word_freq_df['Word Id']=word_freq_df.index\n",
    "word_freq_df=word_freq_df.reset_index(drop=True)\n",
    "word_freq_df=word_freq_df.set_index('Word Id')\n",
    "# some words have occured more often\n",
    "word_freq_df.sort_values(by='Word Count',ascending=False).head()"
   ]
  },
  {
   "cell_type": "code",
   "execution_count": 8,
   "metadata": {},
   "outputs": [
    {
     "data": {
      "text/html": [
       "<div>\n",
       "<style scoped>\n",
       "    .dataframe tbody tr th:only-of-type {\n",
       "        vertical-align: middle;\n",
       "    }\n",
       "\n",
       "    .dataframe tbody tr th {\n",
       "        vertical-align: top;\n",
       "    }\n",
       "\n",
       "    .dataframe thead th {\n",
       "        text-align: right;\n",
       "    }\n",
       "</style>\n",
       "<table border=\"1\" class=\"dataframe\">\n",
       "  <thead>\n",
       "    <tr style=\"text-align: right;\">\n",
       "      <th></th>\n",
       "      <th>Word Count</th>\n",
       "    </tr>\n",
       "    <tr>\n",
       "      <th>Word Id</th>\n",
       "      <th></th>\n",
       "    </tr>\n",
       "  </thead>\n",
       "  <tbody>\n",
       "    <tr>\n",
       "      <th>6463</th>\n",
       "      <td>2.0</td>\n",
       "    </tr>\n",
       "    <tr>\n",
       "      <th>25459</th>\n",
       "      <td>2.0</td>\n",
       "    </tr>\n",
       "    <tr>\n",
       "      <th>33595</th>\n",
       "      <td>2.0</td>\n",
       "    </tr>\n",
       "    <tr>\n",
       "      <th>50438</th>\n",
       "      <td>2.0</td>\n",
       "    </tr>\n",
       "    <tr>\n",
       "      <th>38637</th>\n",
       "      <td>2.0</td>\n",
       "    </tr>\n",
       "  </tbody>\n",
       "</table>\n",
       "</div>"
      ],
      "text/plain": [
       "         Word Count\n",
       "Word Id            \n",
       "6463            2.0\n",
       "25459           2.0\n",
       "33595           2.0\n",
       "50438           2.0\n",
       "38637           2.0"
      ]
     },
     "execution_count": 8,
     "metadata": {},
     "output_type": "execute_result"
    }
   ],
   "source": [
    "# some occured less\n",
    "word_freq_df.sort_values(by='Word Count',ascending=False).tail()"
   ]
  },
  {
   "cell_type": "code",
   "execution_count": 9,
   "metadata": {},
   "outputs": [
    {
     "data": {
      "image/png": "[encoded data removed]",
      "text/plain": [
       "<Figure size 864x288 with 1 Axes>"
      ]
     },
     "metadata": {},
     "output_type": "display_data"
    }
   ],
   "source": [
    "# Plotting for understanding the word count distribution of spam/Ham emails\n",
    "len_emails = np.sum(df, axis=1)\n",
    "y_values = np.array(data['Y'][0])\n",
    "len_spam = len_emails[y_values==1]\n",
    "len_not_spam = len_emails[y_values==-1]\n",
    "\n",
    "plt.figure(figsize=(12,4))\n",
    "plt.hist([len_spam, len_not_spam], bins=50, color=['#D32404', '#1779EE'],\n",
    "         label=['spam', 'not spam'],density=False)\n",
    "plt.title('Word counts for Spam vs Non-Spam')\n",
    "plt.xlabel('Emails')\n",
    "plt.ylabel('Count of words')\n",
    "plt.legend()\n",
    "plt.savefig('../reports/Length_distribution_based_on_category.png', \n",
    "            bbox_inches='tight')"
   ]
  },
  {
   "cell_type": "markdown",
   "metadata": {},
   "source": [
    "# Data preparation"
   ]
  },
  {
   "cell_type": "code",
   "execution_count": 10,
   "metadata": {},
   "outputs": [],
   "source": [
    "# Preparing data for further operations\n",
    "X = data['X'].T\n",
    "y = data['Y']"
   ]
  },
  {
   "cell_type": "code",
   "execution_count": 11,
   "metadata": {},
   "outputs": [],
   "source": [
    "def upsampling(X,y):\n",
    "    \"\"\" Balance the class instances using upsampling the minority class\n",
    "        \n",
    "        Parameters\n",
    "        ------------\n",
    "        X: array\n",
    "            Features \n",
    "        y: array\n",
    "            Labels\n",
    "        \n",
    "        Returns\n",
    "        --------------\n",
    "        tuple\n",
    "            Returns new features and labels\n",
    "    \"\"\"\n",
    "    from sklearn.utils import resample\n",
    "    from scipy.sparse import vstack\n",
    "    #Separating the samples with class '-1' from X\n",
    "    minorityClassX= X[y[0] == -1,:] \n",
    "    #Separating the samples with class '1' from X\n",
    "    majorityClassX= X[y[0] == 1,:]                    \n",
    "    \n",
    "    print(minorityClassX.shape)\n",
    "    print(majorityClassX.shape)\n",
    "\n",
    "    resampledMinorityClassX= resample(minorityClassX,replace=True,n_samples=8030)\n",
    "    newSparseMatrix = vstack([majorityClassX,resampledMinorityClassX])\n",
    "    #Separating the samples with class '-1' from Y\n",
    "    minorityClassY= y.T[y[0] == -1]   \n",
    "    #Separating the samples with class '1' from Y\n",
    "    majorityClassY= y.T[y[0] == 1]                                  \n",
    "\n",
    "    newMinorityClassValueY = np.full((len(majorityClassY), 1), -1)\n",
    "    #Creating new Y value with balanced '1' and '-1'\n",
    "    newYValue = np.vstack((majorityClassY,newMinorityClassValueY))  \n",
    "\n",
    "    return newSparseMatrix, newYValue"
   ]
  },
  {
   "cell_type": "code",
   "execution_count": 12,
   "metadata": {},
   "outputs": [
    {
     "name": "stdout",
     "output_type": "stream",
     "text": [
      "(1970, 57173)\n",
      "(8030, 57173)\n",
      "# observations: (16060, 57173)\n",
      "# labels: (16060, 1)\n",
      "# Not spam: 8030\n",
      "# Spam: 8030\n"
     ]
    }
   ],
   "source": [
    "# Upsampling the minority class\n",
    "\n",
    "X_upsample,y_upsample=upsampling(X,y)\n",
    "print('# observations:',X_upsample.shape)\n",
    "print(\"# labels:\",y_upsample.shape)\n",
    "print(\"# Not spam:\",len(np.where(y_upsample==-1)[0]))\n",
    "print('# Spam:',len(np.where(y_upsample==1)[0]))"
   ]
  },
  {
   "cell_type": "code",
   "execution_count": 13,
   "metadata": {},
   "outputs": [
    {
     "name": "stdout",
     "output_type": "stream",
     "text": [
      "# observations: (16060, 57173)\n"
     ]
    }
   ],
   "source": [
    "# Normalizing the data\n",
    "\n",
    "from sklearn.feature_extraction.text import TfidfTransformer\n",
    "transformer = TfidfTransformer()\n",
    "X_upsample_tfidf= transformer.fit_transform(X_upsample)\n",
    "print('# observations:',X_upsample_tfidf.shape)"
   ]
  },
  {
   "cell_type": "markdown",
   "metadata": {},
   "source": [
    "# Training"
   ]
  },
  {
   "cell_type": "code",
   "execution_count": 14,
   "metadata": {},
   "outputs": [],
   "source": [
    "def adjusted_classes(y_scores, t):\n",
    "    \"\"\"\n",
    "    Predicts the classes based on the specifed threshold\n",
    "    \n",
    "    Parameters\n",
    "    -----------\n",
    "    y_scores: list\n",
    "        Probabilites of the positive classes\n",
    "    t: float\n",
    "        Threshold \n",
    "    \n",
    "    Returns\n",
    "    -----------\n",
    "    list\n",
    "        Returns list of the predicted outcome\n",
    "    \"\"\"\n",
    "    return [1 if y >= t else -1 for y in y_scores] "
   ]
  },
  {
   "cell_type": "code",
   "execution_count": 15,
   "metadata": {},
   "outputs": [],
   "source": [
    "def cross_validation(splits, X, Y, model, average_method='binary',t=0.5):\n",
    "    ''' Performs k -fold cross validation and print the \n",
    "        classification report for each fold\n",
    "        Parameter\n",
    "        ---------\n",
    "        splits: int\n",
    "            Number of splits to be done\n",
    "        X: array\n",
    "            Feature set\n",
    "        Y: array\n",
    "            Labels\n",
    "        model: Estimator\n",
    "            Model to be trained on\n",
    "        average_method: str\n",
    "            method for the classification metrics (optional)\n",
    "        t: float\n",
    "            Defines the threshold\n",
    "    '''\n",
    "    from sklearn.model_selection import KFold\n",
    "    kfold = KFold(n_splits=splits, shuffle=True, random_state=10)\n",
    "    accuracy = []\n",
    "    precision = []\n",
    "    recall = []\n",
    "    f1 = []\n",
    "    y_real = []\n",
    "    y_proba = []\n",
    "\n",
    "    fold=0\n",
    "    #KFold Cross Validation so that the model performs good in future samples\n",
    "    for train, test in kfold.split(X, Y):           \n",
    "        fold=fold+1\n",
    "        predictor = model.fit(X[train], Y[train])\n",
    "        scores = predictor.score(X[test],Y[test])\n",
    "        pred_proba =  predictor.predict_proba(X[test])\n",
    "        # prediction of the classes based on threshold\n",
    "        prediction = adjusted_classes(pred_proba[:,1], t)\n",
    "        \n",
    "        print('          Ham       Spam')\n",
    "\n",
    "        accuracy.append(scores * 100)\n",
    "        precision.append(precision_score(Y[test], prediction, \n",
    "                                         average=average_method)*100)\n",
    "        print('precision:',precision_score(Y[test], prediction, average=None))\n",
    "        recall.append(recall_score(Y[test], prediction, average=average_method)*100)\n",
    "        print('recall:   ',recall_score(Y[test], prediction, average=None))\n",
    "        f1.append(f1_score(Y[test], prediction, average=average_method)*100)\n",
    "        print('-'*50)\n",
    "        \n",
    "        # precision- recall curve for each folds\n",
    "        precision_fold, recall_fold, thresh = precision_recall_curve(\n",
    "            Y[test], pred_proba[:,1])\n",
    "\n",
    "        pr_auc= auc(recall_fold,precision_fold)\n",
    "        label_fold = 'Fold %d AUC=%.4f' % (fold, pr_auc)\n",
    "        plt.plot(recall_fold, precision_fold, alpha=0.3, \n",
    "                 label=label_fold, color=np.random.rand(3,))\n",
    "\n",
    "        y_real.append(Y[test])\n",
    "        y_proba.append(pred_proba[:,1])\n",
    "        \n",
    "    # Report #\n",
    "    # Prints the overall accuracy, precision and recall\n",
    "    print(\"accuracy: %.2f%% (+/- %.2f%%)\" % (np.mean(accuracy), np.std(accuracy)))\n",
    "    print(\"precision: %.2f%% (+/- %.2f%%)\" % (np.mean(precision), np.std(precision)))\n",
    "    print(\"recall: %.2f%% (+/- %.2f%%)\" % (np.mean(recall), np.std(recall)))\n",
    "    print(\"f1 score: %.2f%% (+/- %.2f%%)\" % (np.mean(f1), np.std(f1)))\n",
    "    \n",
    "    # plots the overall Precision-recall curve\n",
    "    y_real = np.concatenate(y_real)\n",
    "    y_proba = np.concatenate(y_proba)\n",
    "    precision, recall, threshold = precision_recall_curve(y_real, y_proba)\n",
    "    final_label = 'Overall AUC=%.4f' % (auc(recall, precision))\n",
    "    plt.plot(recall, precision, lw=2,color='red', label=final_label)\n",
    "    plt.plot([0, 1], [0.5, 0.5], linestyle='--')\n",
    "    plt.legend(loc='lower left', fontsize='small')\n",
    "    \n",
    "    # plot the current threshold on the line\n",
    "    close_default_clf = np.argmin(np.abs(threshold - t))\n",
    "    plt.plot(recall[close_default_clf], precision[close_default_clf], '.', c='k',\n",
    "            markersize=15)\n",
    "    \n",
    "    plt.xlabel('Recall')\n",
    "    plt.ylabel('Precision')\n",
    "    plt.title('Precision-recall curve')\n",
    "    plt.show()"
   ]
  },
  {
   "cell_type": "code",
   "execution_count": 16,
   "metadata": {},
   "outputs": [
    {
     "name": "stdout",
     "output_type": "stream",
     "text": [
      "          Ham       Spam\n",
      "precision: [1.         0.98385093]\n",
      "recall:    [0.98402948 1.        ]\n",
      "--------------------------------------------------\n",
      "          Ham       Spam\n",
      "precision: [1.         0.98205742]\n",
      "recall:    [0.98089172 1.        ]\n",
      "--------------------------------------------------\n",
      "          Ham       Spam\n",
      "precision: [1.         0.98569726]\n",
      "recall:    [0.98459564 1.        ]\n",
      "--------------------------------------------------\n",
      "          Ham       Spam\n",
      "precision: [1.         0.98684211]\n",
      "recall:    [0.98591549 1.        ]\n",
      "--------------------------------------------------\n",
      "          Ham       Spam\n",
      "precision: [1.        0.9800995]\n",
      "recall:    [0.9804401 1.       ]\n",
      "--------------------------------------------------\n",
      "          Ham       Spam\n",
      "precision: [0.99877451 0.98734177]\n",
      "recall:    [0.98787879 0.99871959]\n",
      "--------------------------------------------------\n",
      "          Ham       Spam\n",
      "precision: [0.99874372 0.98765432]\n",
      "recall:    [0.98757764 0.99875156]\n",
      "--------------------------------------------------\n",
      "          Ham       Spam\n",
      "precision: [1.        0.9769697]\n",
      "recall:    [0.97625 1.     ]\n",
      "--------------------------------------------------\n",
      "          Ham       Spam\n",
      "precision: [1.         0.98019802]\n",
      "recall:    [0.98034398 1.        ]\n",
      "--------------------------------------------------\n",
      "          Ham       Spam\n",
      "precision: [0.9962406  0.98267327]\n",
      "recall:    [0.98269468 0.99623588]\n",
      "--------------------------------------------------\n",
      "accuracy: 99.84% (+/- 0.11%)\n",
      "precision: 98.33% (+/- 0.34%)\n",
      "recall: 99.94% (+/- 0.12%)\n",
      "f1 score: 99.13% (+/- 0.17%)\n"
     ]
    },
    {
     "data": {
      "image/png": "[encoded data removed]",
      "text/plain": [
       "<Figure size 432x288 with 1 Axes>"
      ]
     },
     "metadata": {},
     "output_type": "display_data"
    }
   ],
   "source": [
    "# logistic regression\n",
    "lr = LogisticRegression(random_state=42)\n",
    "cross_validation(10,X_upsample_tfidf,y_upsample,lr,t=0.2) "
   ]
  },
  {
   "cell_type": "code",
   "execution_count": 17,
   "metadata": {},
   "outputs": [
    {
     "name": "stdout",
     "output_type": "stream",
     "text": [
      "          Ham       Spam\n",
      "precision: [1.         0.99497487]\n",
      "recall:    [0.995086 1.      ]\n",
      "--------------------------------------------------\n",
      "          Ham       Spam\n",
      "precision: [1.         0.99635922]\n",
      "recall:    [0.99617834 1.        ]\n",
      "--------------------------------------------------\n",
      "          Ham       Spam\n",
      "precision: [1.         0.99399038]\n",
      "recall:    [0.99358151 1.        ]\n",
      "--------------------------------------------------\n",
      "          Ham       Spam\n",
      "precision: [1.         0.99158654]\n",
      "recall:    [0.99103713 1.        ]\n",
      "--------------------------------------------------\n",
      "          Ham       Spam\n",
      "precision: [1.         0.99494949]\n",
      "recall:    [0.99511002 1.        ]\n",
      "--------------------------------------------------\n",
      "          Ham       Spam\n",
      "precision: [1.         0.99617347]\n",
      "recall:    [0.99636364 1.        ]\n",
      "--------------------------------------------------\n",
      "          Ham       Spam\n",
      "precision: [0.99875467 0.99626401]\n",
      "recall:    [0.99627329 0.99875156]\n",
      "--------------------------------------------------\n",
      "          Ham       Spam\n",
      "precision: [1.         0.99017199]\n",
      "recall:    [0.99 1.  ]\n",
      "--------------------------------------------------\n",
      "          Ham       Spam\n",
      "precision: [1.         0.99372647]\n",
      "recall:    [0.99385749 1.        ]\n",
      "--------------------------------------------------\n",
      "          Ham       Spam\n",
      "precision: [0.99876238 0.99749373]\n",
      "recall:    [0.99752781 0.99874529]\n",
      "--------------------------------------------------\n",
      "accuracy: 99.73% (+/- 0.16%)\n",
      "precision: 99.46% (+/- 0.22%)\n",
      "recall: 99.97% (+/- 0.05%)\n",
      "f1 score: 99.72% (+/- 0.10%)\n"
     ]
    },
    {
     "data": {
      "image/png": "[encoded data removed]",
      "text/plain": [
       "<Figure size 432x288 with 1 Axes>"
      ]
     },
     "metadata": {},
     "output_type": "display_data"
    }
   ],
   "source": [
    "# random forest\n",
    "rf = RandomForestClassifier(random_state=42)\n",
    "cross_validation(10,X_upsample_tfidf,y_upsample,rf,t=0.2)"
   ]
  },
  {
   "cell_type": "markdown",
   "metadata": {},
   "source": [
    "# Save the models"
   ]
  },
  {
   "cell_type": "code",
   "execution_count": 18,
   "metadata": {},
   "outputs": [],
   "source": [
    "# save the best model for prediction to disk\n",
    "filename = '../models/finalized_model_rf.sav'\n",
    "pickle.dump(rf, open(filename, 'wb'))\n",
    "\n",
    "# save the best model for prediction to disk\n",
    "filename = '../models/finalized_model_lr.sav'\n",
    "pickle.dump(lr, open(filename, 'wb'))"
   ]
  },
  {
   "cell_type": "markdown",
   "metadata": {},
   "source": [
    "# Comment:\n",
    "\n",
    "Both the models achieved high recall i.e. more than 99.8%. However, Random forest works better for the same threshold and also gave high AUC."
   ]
  }
 ],
 "metadata": {
  "kernelspec": {
   "display_name": "Python 3",
   "language": "python",
   "name": "python3"
  },
  "language_info": {
   "codemirror_mode": {
    "name": "ipython",
    "version": 3
   },
   "file_extension": ".py",
   "mimetype": "text/x-python",
   "name": "python",
   "nbconvert_exporter": "python",
   "pygments_lexer": "ipython3",
   "version": "3.6.5"
  }
 },
 "nbformat": 4,
 "nbformat_minor": 2
}
