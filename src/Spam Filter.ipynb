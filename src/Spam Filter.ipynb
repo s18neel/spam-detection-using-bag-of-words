{
 "cells": [
  {
   "cell_type": "code",
   "execution_count": 1,
   "metadata": {},
   "outputs": [],
   "source": [
    "# Importing required libraries\n",
    "import numpy as np\n",
    "import pandas as pd\n",
    "import matplotlib.pyplot as plt; plt.style.use('ggplot') \n",
    "import seaborn as sns;\n",
    "import warnings; warnings.filterwarnings('ignore')\n",
    "import scipy.io as io\n",
    "from scipy.sparse import csr_matrix\n",
    "from sklearn.model_selection import train_test_split\n",
    "from sklearn.metrics import accuracy_score, classification_report, precision_recall_curve,roc_curve, confusion_matrix\n",
    "from sklearn.metrics import precision_score, recall_score,f1_score, auc, average_precision_score\n",
    "from sklearn.linear_model import LogisticRegression\n",
    "from sklearn.ensemble import RandomForestClassifier\n",
    "import pickle"
   ]
  },
  {
   "cell_type": "code",
   "execution_count": 2,
   "metadata": {},
   "outputs": [
    {
     "name": "stdout",
     "output_type": "stream",
     "text": [
      "# obervations: (57173, 10000)\n",
      "# class observations: (1, 10000)\n"
     ]
    }
   ],
   "source": [
    "# Loading the datatset\n",
    "data =  io.loadmat(\"../data/raw/emails.mat\")\n",
    "print('# obervations:',data['X'].shape)\n",
    "print('# class observations:',data['Y'].shape)"
   ]
  },
  {
   "cell_type": "markdown",
   "metadata": {},
   "source": [
    "### 1. Data Exploration"
   ]
  },
  {
   "cell_type": "code",
   "execution_count": 3,
   "metadata": {},
   "outputs": [
    {
     "data": {
      "image/png": "[encoded data removed]",
      "text/plain": [
       "<Figure size 432x288 with 1 Axes>"
      ]
     },
     "metadata": {
      "needs_background": "light"
     },
     "output_type": "display_data"
    }
   ],
   "source": [
    "YData = pd.DataFrame(data['Y'].T)\n",
    "fig, ax = plt.subplots(figsize=(6,4))\n",
    "sns.countplot(x = YData[0], ax=ax)\n",
    "ax.set_xticklabels(['Not spam','Spam'])\n",
    "ax.set_xlabel('')\n",
    "fig.suptitle('Frequencies of the output classes')\n",
    "plt.show()"
   ]
  },
  {
   "cell_type": "code",
   "execution_count": 4,
   "metadata": {},
   "outputs": [],
   "source": [
    "#Exploration of data\n",
    "# from scipy.sparse import csr_matrix\n",
    "sparse_matrix = csr_matrix(data['X'])\n",
    "dense_matrix = sparse_matrix.todense()                                       #Converting the sparse matrix to a dense matrix\n",
    "# N.B.:This operation is computationally expensive, so we'll perform it just once to explore the data"
   ]
  },
  {
   "cell_type": "code",
   "execution_count": 5,
   "metadata": {},
   "outputs": [
    {
     "name": "stdout",
     "output_type": "stream",
     "text": [
      "****************************************************************************************************\n",
      "Sparcity of the matrix\n",
      "****************************************************************************************************\n",
      "0.9958870463330594\n"
     ]
    }
   ],
   "source": [
    "print('*'*100)\n",
    "print('Sparcity of the matrix')\n",
    "print('*'*100)\n",
    "sparcity = 1-(np.count_nonzero(dense_matrix) / float(dense_matrix.size))        #calculating sparcity of the matrix\n",
    "print(sparcity)"
   ]
  },
  {
   "cell_type": "code",
   "execution_count": 6,
   "metadata": {},
   "outputs": [
    {
     "name": "stdout",
     "output_type": "stream",
     "text": [
      "****************************************************************************************************\n",
      "Exploration of data a little more\n",
      "****************************************************************************************************\n",
      "converting the dense matrix to a dataframe for better exploration:\n",
      "****************************************************************************************************\n",
      "     0    1    2    3    4    5    6    7    8    9  ...    40   41   42   43  \\\n",
      "0   0.0  0.0  0.0  0.0  0.0  0.0  0.0  0.0  0.0  0.0 ...   0.0  0.0  0.0  0.0   \n",
      "1   0.0  0.0  0.0  0.0  0.0  0.0  0.0  0.0  0.0  0.0 ...   0.0  0.0  0.0  0.0   \n",
      "2   0.0  0.0  0.0  0.0  0.0  0.0  0.0  0.0  0.0  0.0 ...   0.0  0.0  0.0  0.0   \n",
      "3   0.0  0.0  0.0  0.0  0.0  0.0  0.0  0.0  0.0  0.0 ...   0.0  0.0  0.0  0.0   \n",
      "4   0.0  0.0  0.0  0.0  0.0  0.0  0.0  0.0  0.0  0.0 ...   0.0  0.0  0.0  0.0   \n",
      "5   0.0  0.0  0.0  0.0  0.0  0.0  0.0  0.0  0.0  0.0 ...   0.0  0.0  0.0  0.0   \n",
      "6   0.0  0.0  0.0  0.0  0.0  0.0  0.0  0.0  0.0  0.0 ...   0.0  0.0  0.0  0.0   \n",
      "7   0.0  0.0  0.0  0.0  0.0  0.0  0.0  0.0  0.0  0.0 ...   0.0  0.0  0.0  0.0   \n",
      "8   0.0  0.0  0.0  0.0  0.0  0.0  0.0  0.0  0.0  0.0 ...   0.0  0.0  0.0  0.0   \n",
      "9   0.0  0.0  0.0  0.0  0.0  0.0  0.0  0.0  0.0  0.0 ...   0.0  0.0  0.0  0.0   \n",
      "10  0.0  0.0  0.0  0.0  0.0  0.0  0.0  0.0  0.0  0.0 ...   0.0  0.0  0.0  0.0   \n",
      "11  0.0  0.0  0.0  0.0  0.0  0.0  0.0  0.0  0.0  0.0 ...   0.0  0.0  0.0  0.0   \n",
      "12  0.0  0.0  0.0  0.0  0.0  0.0  0.0  0.0  0.0  0.0 ...   0.0  0.0  0.0  0.0   \n",
      "13  0.0  0.0  0.0  0.0  0.0  0.0  0.0  0.0  0.0  0.0 ...   0.0  0.0  0.0  0.0   \n",
      "14  0.0  0.0  0.0  0.0  0.0  0.0  0.0  0.0  0.0  0.0 ...   0.0  0.0  0.0  0.0   \n",
      "15  0.0  0.0  0.0  0.0  0.0  0.0  0.0  0.0  0.0  0.0 ...   0.0  0.0  0.0  0.0   \n",
      "16  0.0  0.0  0.0  0.0  0.0  0.0  0.0  0.0  0.0  0.0 ...   0.0  0.0  0.0  0.0   \n",
      "17  0.0  0.0  0.0  0.0  0.0  0.0  0.0  0.0  0.0  0.0 ...   0.0  0.0  0.0  0.0   \n",
      "18  0.0  0.0  0.0  0.0  0.0  0.0  0.0  0.0  0.0  0.0 ...   0.0  0.0  0.0  0.0   \n",
      "19  0.0  0.0  0.0  0.0  0.0  0.0  0.0  0.0  0.0  0.0 ...   0.0  0.0  0.0  0.0   \n",
      "20  0.0  0.0  0.0  0.0  0.0  0.0  0.0  0.0  0.0  0.0 ...   0.0  0.0  0.0  0.0   \n",
      "21  0.0  0.0  0.0  0.0  0.0  0.0  0.0  0.0  0.0  0.0 ...   0.0  0.0  0.0  0.0   \n",
      "22  0.0  0.0  0.0  0.0  0.0  0.0  0.0  0.0  0.0  0.0 ...   0.0  0.0  0.0  0.0   \n",
      "23  0.0  0.0  0.0  0.0  0.0  0.0  0.0  0.0  0.0  0.0 ...   0.0  0.0  0.0  0.0   \n",
      "24  0.0  0.0  0.0  0.0  0.0  0.0  0.0  0.0  0.0  0.0 ...   0.0  0.0  0.0  0.0   \n",
      "25  0.0  0.0  0.0  0.0  0.0  0.0  0.0  0.0  0.0  0.0 ...   0.0  0.0  0.0  0.0   \n",
      "26  0.0  0.0  0.0  0.0  0.0  0.0  0.0  0.0  0.0  0.0 ...   0.0  0.0  0.0  0.0   \n",
      "27  0.0  0.0  0.0  0.0  0.0  0.0  0.0  0.0  0.0  0.0 ...   0.0  0.0  0.0  0.0   \n",
      "28  0.0  0.0  0.0  0.0  0.0  0.0  0.0  0.0  0.0  0.0 ...   0.0  0.0  0.0  0.0   \n",
      "29  0.0  0.0  0.0  0.0  0.0  0.0  0.0  0.0  0.0  0.0 ...   0.0  0.0  0.0  0.0   \n",
      "30  0.0  0.0  0.0  0.0  0.0  0.0  0.0  0.0  0.0  0.0 ...   0.0  0.0  0.0  0.0   \n",
      "31  0.0  0.0  0.0  0.0  0.0  0.0  0.0  0.0  0.0  0.0 ...   0.0  0.0  0.0  0.0   \n",
      "32  0.0  0.0  0.0  0.0  0.0  0.0  0.0  0.0  0.0  0.0 ...   0.0  0.0  0.0  0.0   \n",
      "33  0.0  0.0  0.0  0.0  0.0  0.0  0.0  0.0  0.0  0.0 ...   0.0  0.0  0.0  0.0   \n",
      "34  0.0  0.0  0.0  0.0  0.0  0.0  0.0  0.0  0.0  0.0 ...   0.0  0.0  0.0  0.0   \n",
      "35  0.0  0.0  0.0  0.0  0.0  0.0  3.0  0.0  0.0  0.0 ...   0.0  0.0  0.0  0.0   \n",
      "36  0.0  0.0  0.0  0.0  0.0  0.0  0.0  0.0  0.0  0.0 ...   0.0  0.0  0.0  0.0   \n",
      "37  0.0  0.0  0.0  0.0  0.0  0.0  0.0  0.0  0.0  0.0 ...   0.0  0.0  0.0  0.0   \n",
      "38  0.0  0.0  0.0  0.0  0.0  0.0  0.0  0.0  0.0  0.0 ...   0.0  0.0  0.0  0.0   \n",
      "39  0.0  0.0  0.0  0.0  0.0  0.0  0.0  0.0  0.0  0.0 ...   0.0  0.0  0.0  0.0   \n",
      "40  0.0  0.0  0.0  0.0  0.0  0.0  0.0  0.0  0.0  0.0 ...   0.0  0.0  0.0  0.0   \n",
      "41  0.0  0.0  0.0  0.0  0.0  0.0  0.0  0.0  0.0  0.0 ...   0.0  0.0  0.0  0.0   \n",
      "42  0.0  0.0  0.0  0.0  0.0  0.0  0.0  0.0  0.0  0.0 ...   0.0  0.0  0.0  0.0   \n",
      "43  0.0  0.0  0.0  0.0  0.0  0.0  0.0  0.0  0.0  0.0 ...   0.0  0.0  0.0  0.0   \n",
      "44  0.0  0.0  0.0  0.0  1.0  0.0  0.0  0.0  0.0  0.0 ...   0.0  0.0  0.0  0.0   \n",
      "45  2.0  0.0  0.0  0.0  0.0  0.0  0.0  0.0  0.0  0.0 ...   0.0  0.0  0.0  0.0   \n",
      "46  0.0  0.0  0.0  0.0  0.0  0.0  0.0  0.0  0.0  0.0 ...   0.0  0.0  0.0  0.0   \n",
      "47  0.0  0.0  0.0  0.0  0.0  0.0  0.0  0.0  0.0  0.0 ...   0.0  0.0  0.0  0.0   \n",
      "48  0.0  0.0  0.0  0.0  2.0  0.0  0.0  0.0  0.0  0.0 ...   0.0  0.0  0.0  0.0   \n",
      "49  0.0  0.0  0.0  0.0  2.0  0.0  0.0  0.0  0.0  0.0 ...   0.0  0.0  0.0  0.0   \n",
      "\n",
      "     44   45   46   47   48   49  \n",
      "0   0.0  0.0  0.0  0.0  0.0  0.0  \n",
      "1   0.0  0.0  0.0  0.0  0.0  0.0  \n",
      "2   0.0  0.0  0.0  0.0  0.0  0.0  \n",
      "3   0.0  0.0  0.0  0.0  0.0  0.0  \n",
      "4   0.0  0.0  0.0  0.0  0.0  0.0  \n",
      "5   0.0  0.0  0.0  0.0  0.0  0.0  \n",
      "6   0.0  0.0  0.0  0.0  0.0  0.0  \n",
      "7   0.0  0.0  0.0  0.0  0.0  0.0  \n",
      "8   0.0  0.0  0.0  0.0  0.0  0.0  \n",
      "9   0.0  0.0  0.0  0.0  0.0  0.0  \n",
      "10  0.0  0.0  0.0  0.0  0.0  0.0  \n",
      "11  0.0  0.0  0.0  0.0  0.0  0.0  \n",
      "12  0.0  0.0  0.0  0.0  0.0  0.0  \n",
      "13  0.0  0.0  0.0  0.0  0.0  0.0  \n",
      "14  0.0  0.0  0.0  0.0  0.0  0.0  \n",
      "15  0.0  0.0  0.0  0.0  0.0  0.0  \n",
      "16  0.0  0.0  0.0  0.0  0.0  0.0  \n",
      "17  0.0  0.0  0.0  0.0  0.0  0.0  \n",
      "18  0.0  0.0  0.0  0.0  0.0  0.0  \n",
      "19  0.0  0.0  0.0  0.0  0.0  0.0  \n",
      "20  0.0  0.0  0.0  0.0  0.0  0.0  \n",
      "21  0.0  0.0  0.0  0.0  0.0  0.0  \n",
      "22  0.0  0.0  0.0  0.0  0.0  0.0  \n",
      "23  0.0  0.0  0.0  0.0  0.0  0.0  \n",
      "24  0.0  0.0  0.0  0.0  0.0  0.0  \n",
      "25  0.0  0.0  0.0  0.0  0.0  0.0  \n",
      "26  0.0  0.0  0.0  0.0  0.0  0.0  \n",
      "27  0.0  0.0  0.0  0.0  0.0  0.0  \n",
      "28  0.0  0.0  0.0  0.0  0.0  0.0  \n",
      "29  0.0  0.0  0.0  0.0  0.0  0.0  \n",
      "30  0.0  0.0  0.0  0.0  0.0  0.0  \n",
      "31  0.0  0.0  0.0  0.0  0.0  0.0  \n",
      "32  0.0  0.0  0.0  0.0  0.0  0.0  \n",
      "33  0.0  0.0  0.0  0.0  0.0  0.0  \n",
      "34  1.0  0.0  0.0  0.0  0.0  0.0  \n",
      "35  0.0  0.0  0.0  0.0  0.0  0.0  \n",
      "36  0.0  0.0  0.0  0.0  0.0  0.0  \n",
      "37  0.0  0.0  0.0  0.0  0.0  0.0  \n",
      "38  0.0  0.0  0.0  0.0  0.0  0.0  \n",
      "39  0.0  0.0  0.0  0.0  0.0  0.0  \n",
      "40  0.0  0.0  0.0  0.0  0.0  0.0  \n",
      "41  0.0  0.0  0.0  0.0  0.0  0.0  \n",
      "42  0.0  0.0  0.0  0.0  0.0  0.0  \n",
      "43  0.0  0.0  0.0  0.0  0.0  0.0  \n",
      "44  0.0  0.0  0.0  0.0  0.0  1.0  \n",
      "45  0.0  0.0  0.0  0.0  0.0  0.0  \n",
      "46  0.0  0.0  0.0  0.0  0.0  0.0  \n",
      "47  0.0  0.0  0.0  0.0  0.0  0.0  \n",
      "48  0.0  0.0  0.0  0.0  0.0  0.0  \n",
      "49  0.0  0.0  0.0  0.0  0.0  0.0  \n",
      "\n",
      "[50 rows x 50 columns]\n",
      "The matrix is having so many 0 values, We are trying to check a couple of non-zero values in the matrix:\n",
      "****************************************************************************************************\n",
      "2.0\n",
      "2.0\n"
     ]
    }
   ],
   "source": [
    "print('*'*100)\n",
    "print('Exploration of data a little more')\n",
    "print('*'*100)\n",
    "print('converting the dense matrix to a dataframe for better exploration:')\n",
    "print('*'*100)\n",
    "df = pd.DataFrame(dense_matrix.T)\n",
    "print(df.loc[0:49,0:49])\n",
    "print('The matrix is having so many 0 values, We are trying to check a couple of non-zero values in the matrix:')\n",
    "print('*'*100)\n",
    "print(df.loc[45,0])\n",
    "print(df.loc[48,4])"
   ]
  },
  {
   "cell_type": "code",
   "execution_count": 7,
   "metadata": {},
   "outputs": [
    {
     "name": "stdout",
     "output_type": "stream",
     "text": [
      "0.0    9867\n",
      "1.0     133\n",
      "Name: 322, dtype: int64\n",
      "0.0    9991\n",
      "1.0       8\n",
      "2.0       1\n",
      "Name: 2848, dtype: int64\n"
     ]
    }
   ],
   "source": [
    "# checking the ranges in the word count for each word\n",
    "print(df[322].value_counts())\n",
    "print(df[2848].value_counts())"
   ]
  },
  {
   "cell_type": "markdown",
   "metadata": {},
   "source": [
    "### 2. Data preparation"
   ]
  },
  {
   "cell_type": "code",
   "execution_count": 8,
   "metadata": {},
   "outputs": [
    {
     "name": "stdout",
     "output_type": "stream",
     "text": [
      "(10000, 57173)\n",
      "(1, 10000)\n"
     ]
    }
   ],
   "source": [
    "# Preparing data for further operations\n",
    "X = data['X'].T\n",
    "y = data['Y']\n",
    "print(X.shape)\n",
    "print(y.shape)\n",
    "# print(X.shape)\n"
   ]
  },
  {
   "cell_type": "code",
   "execution_count": 9,
   "metadata": {},
   "outputs": [],
   "source": [
    "# balance the class instances using upsampling the minority class\n",
    "def upsampling(X,y):\n",
    "    from sklearn.utils import resample\n",
    "    from scipy.sparse import vstack\n",
    "\n",
    "    minorityClassX= X[y[0] == -1,:]                   #Separating the samples with class '-1' from X\n",
    "    majorityClassX= X[y[0] == 1,:]                    #Separating the samples with class '1' from X\n",
    "    \n",
    "    print(minorityClassX.shape)\n",
    "    print(majorityClassX.shape)\n",
    "\n",
    "    resampledMinorityClassX= resample(minorityClassX,replace=True,n_samples=8030)\n",
    "    newSparseMatrix = vstack([majorityClassX,resampledMinorityClassX])\n",
    "\n",
    "    minorityClassY= y.T[y[0] == -1]                                 #Separating the samples with class '-1' from Y\n",
    "    majorityClassY= y.T[y[0] == 1]                                  #Separating the samples with class '1' from Y\n",
    "\n",
    "    newMinorityClassValueY = np.full((len(majorityClassY), 1), -1)\n",
    "    newYValue = np.vstack((majorityClassY,newMinorityClassValueY))  #Creating new Y value with balanced '1' and '-1'\n",
    "\n",
    "    return newSparseMatrix, newYValue"
   ]
  },
  {
   "cell_type": "code",
   "execution_count": 10,
   "metadata": {},
   "outputs": [
    {
     "name": "stdout",
     "output_type": "stream",
     "text": [
      "(1970, 57173)\n",
      "(8030, 57173)\n",
      "# observations: (16060, 57173)\n",
      "# labels: (16060, 1)\n",
      "# Not spam: 8030\n",
      "# Spam: 8030\n"
     ]
    }
   ],
   "source": [
    "X_upsample,y_upsample=upsampling(X,y)\n",
    "print('# observations:',X_upsample.shape)\n",
    "print(\"# labels:\",y_upsample.shape)\n",
    "print(\"# Not spam:\",len(np.where(y_upsample==-1)[0]))\n",
    "print('# Spam:',len(np.where(y_upsample==1)[0]))"
   ]
  },
  {
   "cell_type": "code",
   "execution_count": 11,
   "metadata": {},
   "outputs": [
    {
     "name": "stdout",
     "output_type": "stream",
     "text": [
      "# observations: (16060, 57173)\n"
     ]
    }
   ],
   "source": [
    "# normalize the data\n",
    "from sklearn.feature_extraction.text import TfidfTransformer\n",
    "transformer = TfidfTransformer()\n",
    "X_upsample_tfidf= transformer.fit_transform(X_upsample)\n",
    "# X_upsample_tfidf= transformer.fit_transform(X)\n",
    "print('# observations:',X_upsample_tfidf.shape)"
   ]
  },
  {
   "cell_type": "code",
   "execution_count": 12,
   "metadata": {
    "scrolled": true
   },
   "outputs": [
    {
     "name": "stdout",
     "output_type": "stream",
     "text": [
      "# Observations X_train:(11242, 57173)\n",
      "# Observations X_test:(4818, 57173)\n",
      "# Observations y_train:(11242, 1)\n",
      "# Observations y_test:(4818, 1)\n"
     ]
    }
   ],
   "source": [
    "# Splitting the dataset into 70% train and 30% test data\n",
    "X_train,X_test,y_train,y_test = train_test_split(X_upsample_tfidf,y_upsample,test_size =0.3, random_state=42)\n",
    "print('# Observations X_train:{}\\n# Observations X_test:{}\\n# Observations y_train:{}\\n# Observations y_test:{}'\\\n",
    "      .format(X_train.shape,X_test.shape,y_train.shape,y_test.shape))"
   ]
  },
  {
   "cell_type": "markdown",
   "metadata": {},
   "source": [
    "### 2. Training"
   ]
  },
  {
   "cell_type": "code",
   "execution_count": 13,
   "metadata": {},
   "outputs": [],
   "source": [
    "def adjusted_classes(y_scores, t):\n",
    "    \"\"\"\n",
    "    Predicts the classes based on the specifed threshold\n",
    "    \n",
    "    Parameters\n",
    "    -----------\n",
    "    y_scores: list\n",
    "        Probabilites of the positive classes\n",
    "    t: float\n",
    "        Threshold \n",
    "    \n",
    "    Returns\n",
    "    -----------\n",
    "    list\n",
    "        Returns list of the predicted outcome\n",
    "    \"\"\"\n",
    "    return [1 if y >= t else -1 for y in y_scores] "
   ]
  },
  {
   "cell_type": "code",
   "execution_count": 14,
   "metadata": {},
   "outputs": [],
   "source": [
    "# since the data is small lets train it using cross validation\n",
    "def cross_validation(splits, X, Y, model, average_method='binary',t=0.5):\n",
    "    ''' Performs k -fold cross validation and print the classification report for each fold\n",
    "        Parameter\n",
    "        ---------\n",
    "        splits: int\n",
    "            Number of splits to be done\n",
    "        X: array\n",
    "            Feature set\n",
    "        Y: array\n",
    "            Labels\n",
    "        model: Estimator\n",
    "            Model to be trained on\n",
    "        average_method: str\n",
    "            method for the classification metrics (optional)\n",
    "        t: float\n",
    "            Defines the threshold\n",
    "    '''\n",
    "    from sklearn.model_selection import KFold\n",
    "    kfold = KFold(n_splits=splits, shuffle=True, random_state=10)\n",
    "    accuracy = []\n",
    "    precision = []\n",
    "    recall = []\n",
    "    f1 = []\n",
    "    y_real = []\n",
    "    y_proba = []\n",
    "\n",
    "    fold=0\n",
    "    for train, test in kfold.split(X, Y):           #KFold Cross Validation so that the model performs good in future samples\n",
    "        fold=fold+1\n",
    "        predictor = model.fit(X[train], Y[train])\n",
    "#         prediction = predictor.predict(X[test])\n",
    "        scores = predictor.score(X[test],Y[test])\n",
    "        pred_proba =  predictor.predict_proba(X[test])\n",
    "        prediction = adjusted_classes(pred_proba[:,1], t)\n",
    "        \n",
    "        print('          Ham       Spam')\n",
    "\n",
    "        accuracy.append(scores * 100)\n",
    "        precision.append(precision_score(Y[test], prediction, average=average_method)*100)\n",
    "        print('precision:',precision_score(Y[test], prediction, average=None))\n",
    "        recall.append(recall_score(Y[test], prediction, average=average_method)*100)\n",
    "        print('recall:   ',recall_score(Y[test], prediction, average=None))\n",
    "        f1.append(f1_score(Y[test], prediction, average=average_method)*100)\n",
    "#         print('f1 score: ',f1_score(Y[test], prediction, average=average_method))\n",
    "        print('-'*50)\n",
    "        \n",
    "        # precision- recall curve for each folds\n",
    "        precision_fold, recall_fold, thresh = precision_recall_curve(Y[test], pred_proba[:,1])\n",
    "#         print(thresh)\n",
    "\n",
    "        pr_auc= auc(recall_fold,precision_fold)\n",
    "        label_fold = 'Fold %d AUC=%.4f' % (fold, pr_auc)\n",
    "        plt.plot(recall_fold, precision_fold, alpha=0.3, label=label_fold, color=np.random.rand(3,))\n",
    "\n",
    "        y_real.append(Y[test])\n",
    "        y_proba.append(pred_proba[:,1])\n",
    "        \n",
    "    # Report #\n",
    "    # Prints the overall accuracy, precision and recall\n",
    "    print(\"accuracy: %.2f%% (+/- %.2f%%)\" % (np.mean(accuracy), np.std(accuracy)))\n",
    "    print(\"precision: %.2f%% (+/- %.2f%%)\" % (np.mean(precision), np.std(precision)))\n",
    "    print(\"recall: %.2f%% (+/- %.2f%%)\" % (np.mean(recall), np.std(recall)))\n",
    "    print(\"f1 score: %.2f%% (+/- %.2f%%)\" % (np.mean(f1), np.std(f1)))\n",
    "    \n",
    "    # plots the overall Precision-recall curve\n",
    "    y_real = np.concatenate(y_real)\n",
    "    y_proba = np.concatenate(y_proba)\n",
    "    precision, recall, threshold = precision_recall_curve(y_real, y_proba)\n",
    "    final_label = 'Overall AUC=%.4f' % (auc(recall, precision))\n",
    "    plt.plot(recall, precision, lw=2,color='red', label=final_label)\n",
    "    plt.plot([0, 1], [0.5, 0.5], linestyle='--')\n",
    "    plt.legend(loc='lower left', fontsize='small')\n",
    "    \n",
    "    # plot the current threshold on the line\n",
    "    close_default_clf = np.argmin(np.abs(threshold - t))\n",
    "    plt.plot(recall[close_default_clf], precision[close_default_clf], '^', c='k',\n",
    "            markersize=15)\n",
    "    \n",
    "    plt.xlabel('Recall')\n",
    "    plt.ylabel('Precision')\n",
    "    plt.title('Precision-recall curve')\n",
    "    plt.show()\n",
    "    \n",
    "#     return np.mean(f1)"
   ]
  },
  {
   "cell_type": "code",
   "execution_count": 15,
   "metadata": {},
   "outputs": [
    {
     "name": "stdout",
     "output_type": "stream",
     "text": [
      "          Ham       Spam\n",
      "precision: [1.         0.97698365]\n",
      "recall:    [0.97623515 1.        ]\n",
      "--------------------------------------------------\n",
      "          Ham       Spam\n",
      "precision: [1.         0.98450536]\n",
      "recall:    [0.98333333 1.        ]\n",
      "--------------------------------------------------\n",
      "          Ham       Spam\n",
      "precision: [0.99938119 0.98245614]\n",
      "recall:    [0.982958   0.99936265]\n",
      "--------------------------------------------------\n",
      "          Ham       Spam\n",
      "precision: [0.99936588 0.982263  ]\n",
      "recall:    [0.98193146 0.99937772]\n",
      "--------------------------------------------------\n",
      "          Ham       Spam\n",
      "precision: [0.99812265 0.9826518 ]\n",
      "recall:    [0.982748   0.99811202]\n",
      "--------------------------------------------------\n",
      "accuracy: 99.82% (+/- 0.09%)\n",
      "precision: 98.18% (+/- 0.25%)\n",
      "recall: 99.94% (+/- 0.07%)\n",
      "f1 score: 99.05% (+/- 0.12%)\n"
     ]
    },
    {
     "data": {
      "image/png": "[encoded data removed]",
      "text/plain": [
       "<Figure size 432x288 with 1 Axes>"
      ]
     },
     "metadata": {
      "needs_background": "light"
     },
     "output_type": "display_data"
    }
   ],
   "source": [
    "# logistic regression\n",
    "lr = LogisticRegression(random_state=42)\n",
    "cross_validation(5,X_upsample_tfidf,y_upsample,lr,t=0.2) "
   ]
  },
  {
   "cell_type": "code",
   "execution_count": 16,
   "metadata": {},
   "outputs": [
    {
     "name": "stdout",
     "output_type": "stream",
     "text": [
      "          Ham       Spam\n",
      "precision: [1.         0.99445129]\n",
      "recall:    [0.99437148 1.        ]\n",
      "--------------------------------------------------\n",
      "          Ham       Spam\n",
      "precision: [1.         0.99338545]\n",
      "recall:    [0.99294872 1.        ]\n",
      "--------------------------------------------------\n",
      "          Ham       Spam\n",
      "precision: [1.         0.98928121]\n",
      "recall:    [0.98965307 1.        ]\n",
      "--------------------------------------------------\n",
      "          Ham       Spam\n",
      "precision: [0.99937343 0.99381188]\n",
      "recall:    [0.99376947 0.99937772]\n",
      "--------------------------------------------------\n",
      "          Ham       Spam\n",
      "precision: [0.99938042 0.99374218]\n",
      "recall:    [0.99383857 0.99937067]\n",
      "--------------------------------------------------\n",
      "accuracy: 99.66% (+/- 0.13%)\n",
      "precision: 99.29% (+/- 0.19%)\n",
      "recall: 99.97% (+/- 0.03%)\n",
      "f1 score: 99.63% (+/- 0.09%)\n"
     ]
    },
    {
     "data": {
      "image/png": "[encoded data removed]",
      "text/plain": [
       "<Figure size 432x288 with 1 Axes>"
      ]
     },
     "metadata": {
      "needs_background": "light"
     },
     "output_type": "display_data"
    }
   ],
   "source": [
    "# random forest\n",
    "rf = RandomForestClassifier(random_state=42,\n",
    "#                             n_estimators=20\n",
    "                           )\n",
    "cross_validation(5,X_upsample_tfidf,y_upsample,rf,t=0.2)"
   ]
  },
  {
   "cell_type": "markdown",
   "metadata": {},
   "source": [
    "### 3. Save the models"
   ]
  },
  {
   "cell_type": "code",
   "execution_count": 17,
   "metadata": {},
   "outputs": [],
   "source": [
    "# save the best model for prediction to disk\n",
    "filename = '../models/finalized_model_rf.sav'\n",
    "pickle.dump(rf, open(filename, 'wb'))\n",
    "\n",
    "# save the best model for prediction to disk\n",
    "filename = '../models/finalized_model_lr.sav'\n",
    "pickle.dump(lr, open(filename, 'wb'))"
   ]
  },
  {
   "cell_type": "markdown",
   "metadata": {},
   "source": [
    "# Comment:\n",
    "\n",
    "Both the models achieved high recall i.e. more than 99.8%. However, Random forest works better for the same threshold and also gave high AUC."
   ]
  }
 ],
 "metadata": {
  "kernelspec": {
   "display_name": "Python 3",
   "language": "python",
   "name": "python3"
  },
  "language_info": {
   "codemirror_mode": {
    "name": "ipython",
    "version": 3
   },
   "file_extension": ".py",
   "mimetype": "text/x-python",
   "name": "python",
   "nbconvert_exporter": "python",
   "pygments_lexer": "ipython3",
   "version": "3.7.1"
  }
 },
 "nbformat": 4,
 "nbformat_minor": 2
}
